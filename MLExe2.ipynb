{
  "cells": [
    {
      "cell_type": "markdown",
      "metadata": {
        "id": "Td0V2MsJYR46"
      },
      "source": [
        "# Step 1: Import necessary libraries"
      ]
    },
    {
      "cell_type": "code",
      "execution_count": 1,
      "metadata": {
        "id": "NCrUgmEgYFfR"
      },
      "outputs": [],
      "source": [
        "import numpy as np"
      ]
    },
    {
      "cell_type": "markdown",
      "metadata": {
        "id": "A069tvhOYc8V"
      },
      "source": [
        "\n",
        "# Step 2: Define Activation Function (Sigmoid)"
      ]
    },
    {
      "cell_type": "code",
      "execution_count": 2,
      "metadata": {
        "id": "TpQsWix2Yard"
      },
      "outputs": [],
      "source": [
        "def sigmoid(x):\n",
        "    return 1 / (1 + np.exp(-x))\n",
        "\n",
        "def sigmoid_derivative(x):\n",
        "    return x * (1 - x)"
      ]
    },
    {
      "cell_type": "markdown",
      "metadata": {
        "id": "3DYn_wSgYlhK"
      },
      "source": [
        "# Step 3: Define XOR Dataset"
      ]
    },
    {
      "cell_type": "code",
      "execution_count": 3,
      "metadata": {
        "id": "kqsK4eHAYcRb"
      },
      "outputs": [],
      "source": [
        "X = np.array([[0, 0],\n",
        "              [0, 1],\n",
        "              [1, 0],\n",
        "              [1, 1]])\n",
        "\n",
        "y = np.array([[0], [1], [1], [0]])\n"
      ]
    },
    {
      "cell_type": "markdown",
      "metadata": {
        "id": "bLMNGUCDYnLs"
      },
      "source": [
        "# Step 4: Initialize Network Parameters"
      ]
    },
    {
      "cell_type": "code",
      "execution_count": 4,
      "metadata": {
        "id": "5mTVRjTEYqB5"
      },
      "outputs": [],
      "source": [
        "np.random.seed(42)\n",
        "input_neurons = 2   # Two input features\n",
        "hidden_neurons = 2  # Two neurons in the hidden layer\n",
        "output_neurons = 1  # Single output neuron\n"
      ]
    },
    {
      "cell_type": "markdown",
      "metadata": {
        "id": "FBuInXWFYvmL"
      },
      "source": [
        "# Initialize Weights and Biases randomly"
      ]
    },
    {
      "cell_type": "code",
      "execution_count": 5,
      "metadata": {
        "id": "rvch4MTvYsZL"
      },
      "outputs": [],
      "source": [
        "weights_input_hidden = np.random.uniform(size=(input_neurons, hidden_neurons))\n",
        "bias_hidden = np.random.uniform(size=(1, hidden_neurons))\n",
        "weights_hidden_output = np.random.uniform(size=(hidden_neurons, output_neurons))\n",
        "bias_output = np.random.uniform(size=(1, output_neurons))"
      ]
    },
    {
      "cell_type": "markdown",
      "metadata": {
        "id": "In45dFTLY0DR"
      },
      "source": [
        "# Step 5: Set Learning Parameters"
      ]
    },
    {
      "cell_type": "code",
      "execution_count": 6,
      "metadata": {
        "id": "Z0-UuzQnYyAc"
      },
      "outputs": [],
      "source": [
        "learning_rate = 0.1\n",
        "epochs = 10000  # Number of iterations\n"
      ]
    },
    {
      "cell_type": "markdown",
      "metadata": {
        "id": "RtP-lmhyY7eH"
      },
      "source": [
        "# Step 6: Training the Neural Network using Backpropagation"
      ]
    },
    {
      "cell_type": "code",
      "execution_count": 7,
      "metadata": {
        "colab": {
          "base_uri": "https://localhost:8080/"
        },
        "id": "0ehJZYW8Y5u7",
        "outputId": "3c77a67d-59b0-468e-84be-30dc62a5ce56"
      },
      "outputs": [
        {
          "name": "stdout",
          "output_type": "stream",
          "text": [
            "Epoch 1000, Loss: 0.48965\n",
            "Epoch 2000, Loss: 0.43059\n",
            "Epoch 3000, Loss: 0.33589\n",
            "Epoch 4000, Loss: 0.17368\n",
            "Epoch 5000, Loss: 0.11185\n",
            "Epoch 6000, Loss: 0.08578\n",
            "Epoch 7000, Loss: 0.07132\n",
            "Epoch 8000, Loss: 0.06198\n",
            "Epoch 9000, Loss: 0.05538\n",
            "Epoch 10000, Loss: 0.05041\n"
          ]
        }
      ],
      "source": [
        "for epoch in range(epochs):\n",
        "    # Forward Pass\n",
        "    hidden_input = np.dot(X, weights_input_hidden) + bias_hidden\n",
        "    hidden_output = sigmoid(hidden_input)\n",
        "\n",
        "    final_input = np.dot(hidden_output, weights_hidden_output) + bias_output\n",
        "    predicted_output = sigmoid(final_input)\n",
        "\n",
        "    # Compute Error\n",
        "    error = y - predicted_output\n",
        "\n",
        "    # Backpropagation\n",
        "    output_gradient = error * sigmoid_derivative(predicted_output)\n",
        "    hidden_gradient = np.dot(output_gradient, weights_hidden_output.T) * sigmoid_derivative(hidden_output)\n",
        "\n",
        "    # Update Weights and Biases\n",
        "    weights_hidden_output += np.dot(hidden_output.T, output_gradient) * learning_rate\n",
        "    bias_output += np.sum(output_gradient, axis=0, keepdims=True) * learning_rate\n",
        "    weights_input_hidden += np.dot(X.T, hidden_gradient) * learning_rate\n",
        "    bias_hidden += np.sum(hidden_gradient, axis=0, keepdims=True) * learning_rate\n",
        "\n",
        "    # Print Loss Every 1000 Epochs\n",
        "    if (epoch + 1) % 1000 == 0:\n",
        "        loss = np.mean(np.abs(error))\n",
        "        print(f'Epoch {epoch + 1}, Loss: {loss:.5f}')"
      ]
    },
    {
      "cell_type": "markdown",
      "metadata": {
        "id": "pNtR5Vt8ZGRs"
      },
      "source": [
        "# Step 7: Testing the Model"
      ]
    },
    {
      "cell_type": "code",
      "execution_count": 8,
      "metadata": {
        "colab": {
          "base_uri": "https://localhost:8080/"
        },
        "id": "OXsHsyI-ZHG6",
        "outputId": "ed2833c9-2f36-423a-ab49-b0d0fa887670"
      },
      "outputs": [
        {
          "name": "stdout",
          "output_type": "stream",
          "text": [
            "\n",
            "Predicted Output After Training:\n",
            "[[0.05321718]\n",
            " [0.95171956]\n",
            " [0.95160871]\n",
            " [0.05174923]]\n"
          ]
        }
      ],
      "source": [
        "hidden_input = np.dot(X, weights_input_hidden) + bias_hidden\n",
        "hidden_output = sigmoid(hidden_input)\n",
        "final_input = np.dot(hidden_output, weights_hidden_output) + bias_output\n",
        "predicted_output = sigmoid(final_input)\n",
        "\n",
        "print(\"\\nPredicted Output After Training:\")\n",
        "print(predicted_output)"
      ]
    },
    {
      "cell_type": "code",
      "execution_count": null,
      "metadata": {},
      "outputs": [],
      "source": []
    }
  ],
  "metadata": {
    "colab": {
      "provenance": []
    },
    "kernelspec": {
      "display_name": "Python 3",
      "name": "python3"
    },
    "language_info": {
      "codemirror_mode": {
        "name": "ipython",
        "version": 3
      },
      "file_extension": ".py",
      "mimetype": "text/x-python",
      "name": "python",
      "nbconvert_exporter": "python",
      "pygments_lexer": "ipython3",
      "version": "3.11.9"
    }
  },
  "nbformat": 4,
  "nbformat_minor": 0
}
